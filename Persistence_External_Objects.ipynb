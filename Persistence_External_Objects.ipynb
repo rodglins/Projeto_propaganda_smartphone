{
  "nbformat": 4,
  "nbformat_minor": 0,
  "metadata": {
    "colab": {
      "name": "Untitled8.ipynb",
      "provenance": []
    },
    "kernelspec": {
      "name": "python3",
      "display_name": "Python 3"
    },
    "language_info": {
      "name": "python"
    }
  },
  "cells": [
    {
      "cell_type": "markdown",
      "metadata": {
        "id": "rIA4cahDk5XT"
      },
      "source": [
        "# Persistence of External Objects\n",
        "\n",
        "For the benefit of object persistence, the pickle module supports the notion of a reference to an object outside the pickled data stream. Such objects are referenced by a persistent ID, which should be either a string of alphanumeric characters (for protocol 0) 5 or just an arbitrary object (for any newer protocol).\n",
        "\n",
        "The resolution of such persistent IDs is not defined by the pickle module; it will delegate this resolution to the user-defined methods on the pickler and unpickler, persistent_id() and persistent_load() respectively.\n",
        "\n",
        "To pickle objects that have an external persistent ID, the pickler must have a custom persistent_id() method that takes an object as an argument and returns either None or the persistent ID for that object. When None is returned, the pickler simply pickles the object as normal. When a persistent ID string is returned, the pickler will pickle that object, along with a marker so that the unpickler will recognize it as a persistent ID.\n",
        "\n",
        "To unpickle external objects, the unpickler must have a custom persistent_load() method that takes a persistent ID object and returns the referenced object.\n",
        "\n",
        "Here is a comprehensive example presenting how persistent ID can be used to pickle external objects by reference."
      ]
    },
    {
      "cell_type": "code",
      "metadata": {
        "id": "gC86wBrUeJzw"
      },
      "source": [
        "import pickle\n",
        "import sqlite3\n",
        "from collections import namedtuple\n",
        "# Simple class representing a record in our database.\n",
        "MemoRecord = namedtuple(\"MemoRecord\", \"key, task\")"
      ],
      "execution_count": 1,
      "outputs": []
    },
    {
      "cell_type": "code",
      "metadata": {
        "id": "4z0H-wR8eeRG"
      },
      "source": [
        "class DBPickler(pickle.Pickler):\n",
        "  def persistent_id(self, obj):\n",
        "    # Instead of pickling MemoRecord as a regular class instance, we emit a\n",
        "    # persistent ID.\n",
        "  \n",
        "    if isinstance(obj, MemoRecord):\n",
        "      # Here, our persistent ID is simply a tuple, containing a tag and a\n",
        "      # key, which refers to a specific record in the database.\n",
        "      return (\"MemoRecord\", obj.key)\n",
        "    else:\n",
        "      # If obj does not have a persistent ID, return None. This means obj\n",
        "      # needs to be pickled as usual.\n",
        "      return None"
      ],
      "execution_count": 5,
      "outputs": []
    },
    {
      "cell_type": "code",
      "metadata": {
        "id": "7ZstCkBOe20w"
      },
      "source": [
        "class DBUnpickler(pickle.Unpickler):\n",
        "\n",
        "    def __init__(self, file, connection):\n",
        "        super().__init__(file)\n",
        "        self.connection = connection\n",
        "\n",
        "    def persistent_load(self, pid):\n",
        "        # This method is invoked whenever a persistent ID is encountered.\n",
        "        # Here, pid is the tuple returned by DBPickler.\n",
        "        cursor = self.connection.cursor()\n",
        "        type_tag, key_id = pid\n",
        "        if type_tag == \"MemoRecord\":\n",
        "            # Fetch the referenced record from the database and return it.\n",
        "            cursor.execute(\"SELECT * FROM memos WHERE key=?\", (str(key_id),))\n",
        "            key, task = cursor.fetchone()\n",
        "            return MemoRecord(key, task)\n",
        "        else:\n",
        "            # Always raises an error if you cannot return the correct object.\n",
        "            # Otherwise, the unpickler will think None is the object referenced\n",
        "            # by the persistent ID.\n",
        "            raise pickle.UnpicklingError(\"unsupported persistent object\")"
      ],
      "execution_count": 16,
      "outputs": []
    },
    {
      "cell_type": "code",
      "metadata": {
        "id": "Xqe_u_a4kUcX"
      },
      "source": [
        "def main():\n",
        "    import io\n",
        "    import pprint\n",
        "\n",
        "    # Initialize and populate our database.\n",
        "    conn = sqlite3.connect(\":memory:\")\n",
        "    cursor = conn.cursor()\n",
        "    cursor.execute(\"CREATE TABLE memos(key INTEGER PRIMARY KEY, task TEXT)\")\n",
        "    tasks = (\n",
        "        'give food to fish',\n",
        "        'prepare group meeting',\n",
        "        'fight with a zebra',\n",
        "        )\n",
        "    for task in tasks:\n",
        "        cursor.execute(\"INSERT INTO memos VALUES(NULL, ?)\", (task,))\n",
        "\n",
        "    # Fetch the records to be pickled.\n",
        "    cursor.execute(\"SELECT * FROM memos\")\n",
        "    memos = [MemoRecord(key, task) for key, task in cursor]\n",
        "    # Save the records using our custom DBPickler.\n",
        "    file = io.BytesIO()\n",
        "    DBPickler(file).dump(memos)\n",
        "\n",
        "    print(\"Pickled records:\")\n",
        "    pprint.pprint(memos)\n",
        "\n",
        "    # Update a record, just for good measure.\n",
        "    cursor.execute(\"UPDATE memos SET task='learn italian' WHERE key=1\")\n",
        "\n",
        "    # Load the records from the pickle data stream.\n",
        "    file.seek(0)\n",
        "    memos = DBUnpickler(file, conn).load()\n",
        "\n",
        "    print(\"Unpickled records:\")\n",
        "    pprint.pprint(memos)"
      ],
      "execution_count": 17,
      "outputs": []
    },
    {
      "cell_type": "code",
      "metadata": {
        "colab": {
          "base_uri": "https://localhost:8080/"
        },
        "id": "1GcDerEPhqlE",
        "outputId": "c2e90ef5-160b-4dcc-eaa8-44f114c485f9"
      },
      "source": [
        "if __name__ == '__main__':\n",
        "    main()"
      ],
      "execution_count": 19,
      "outputs": [
        {
          "output_type": "stream",
          "name": "stdout",
          "text": [
            "Pickled records:\n",
            "[MemoRecord(key=1, task='give food to fish'),\n",
            " MemoRecord(key=2, task='prepare group meeting'),\n",
            " MemoRecord(key=3, task='fight with a zebra')]\n",
            "Unpickled records:\n",
            "[MemoRecord(key=1, task='learn italian'),\n",
            " MemoRecord(key=2, task='prepare group meeting'),\n",
            " MemoRecord(key=3, task='fight with a zebra')]\n"
          ]
        }
      ]
    }
  ]
}